{
 "cells": [
  {
   "cell_type": "markdown",
   "metadata": {},
   "source": [
    "## Initial Promopt"
   ]
  },
  {
   "cell_type": "code",
   "execution_count": 1,
   "metadata": {},
   "outputs": [
    {
     "name": "stdout",
     "output_type": "stream",
     "text": [
      "Extracted text preview:\n",
      "ReView by River Valley Technologies CAAI Transactions on Intelligence Technology\n",
      "This article has been accepted for publication in a future issue of this journal, but has not been fully edited.\n",
      "Content may change prior to final publication in an issue of the journal. To cite the paper please use the doi provided on the Digital Library page.\n",
      "IETResearchJournals\n",
      "Artificial Intelligence in Internet of Things ISSN1751-8644\n",
      "doi:0000000000\n",
      "www.ietdl.org\n",
      "AshishGhosh1 ∗,DebasritaChakraborty2,AnweshaLaw3\n"
     ]
    },
    {
     "name": "stderr",
     "output_type": "stream",
     "text": [
      "Hardware accelerator e.g. GPU is available in the environment, but no `device` argument is passed to the `Pipeline` object. Model will be on CPU.\n",
      "Your max_length is set to 200, but your input_length is only 87. Since this is a summarization task, where outputs shorter than the input are typically wanted, you might consider decreasing max_length manually, e.g. summarizer('...', max_length=43)\n"
     ]
    },
    {
     "name": "stdout",
     "output_type": "stream",
     "text": [
      "Summary based on prompt:\n",
      "This article has been accepted for publication in a future issue of this journal, but has not been fully edited. To cite the paper please use thedoi provided on the Digital Library page. Summarize the key findings of the paper. IoT with AI canbecomeahugebreakthrough. Thisis not justaboutsavingmoney,smartthings,reducinghumaneffortoranytrendinghype. Thisismuchmorethanthat-easinghumanlife. Thereare,however,someseriousissueslikethesecurityconcernsandethicalissueswhichwillgoonplaguingIo T. This articlemainlyrevolves autoimmunepitalnearby. Summarize the key findings of the paper. virtualobjectisconnectedtoeach other. ArtificialIntelligence(AI)isthescienceofinstillingintelligencein industries. ArtificialIntelligence can make“smartdecisions’ can make. “smart” decisions. AIbasedsystemsareevolvingrapidly. Humansintelligence is actually ‘taking’a                emulating humanlearningaswell asadataanalysis(DA)[2]mod-reprehensibledecisionattheappropriatetime. MostoftheongoingworksinAIcanbetermedas ‘Narrow’ and ‘embedded’systems. The Internet of Things (IoT) is a growing field of research. The Internet of Intelligence is a way to combine data from different types of gadgets. This article has been accepted for publication in a future issue of this journal, but has not been fully edited. To cite the paper please use thedoi provided on the Digital Library page. Thedataneedstobeanalysedtobring                sothatitisunderstandabletothepeoplewhoprovideit,modifiable outthehiddeninsights. Summarize the key findings of the paper. dasatechniquetousethedatainanefficientmanner devices,andconnectivity. Althoughcompletereplicationofallthechar-rithmic efficiency and storage scalability. For analysis, the ideas acteristicsofthelivingbeinghasnotbeenachieved, butresearch come frommuchmorevariedsources. Machines can beequivalently Selfconsciousness Chimpanzee Siri 2011. Learning(includingmachinelearning)mainlytakes placeinthree Hasemotions 1-6year Cozmo 2016. Other likefrustration oldchild onwards. Machinelearningisanemergingfieldincomputerscienceresearch whichgivesinanimatesystemsanabil-                itytolearn. Machinelearning can be defined as the act of acquiring or improving accordinglybehaviors,skills,values,preferences. machinelearning is–toautomatetheana-                anexplicit,finedetailedspecificationstoexecutethetask. The lyticalmodelsandenablealgorithmstocontinuouslylearnfrom the concept ofmachinelearning. Asignificantpartof isacommonthing. Alloftheseisduetotechnologygettingcheaper. The fundamental changes in how we view AI working, which cangetthingsdonewithaclickontheirsmartphone. TheconceptsIoTandIoEareveryoverlapping. Gartner, Inc. forecasted that 6.4 billion hold. connectedthingswillbeinuseworldwidein 2016, up30percent from2015, andwillreach20.8billion by 2020. 1. Summarize the key findings of the paper. 2. The Inter- IoEhasturnedintoacatchphrasetodepicttheintegrationofcon-centricnetofEverythingistheintelligentconnectiono. TheIoEconnectsupthephysicalthingstothe virtual) withaspecificendgoaltogivethemspecialfunctionali-cyberthingsinto onecohesivewhole. InIoT,connec- disabled couldusetheInternetfortheirbenefits. This article has been accepted for publication in a future issue of this journal, but has not been fully edited. Summarize the key findings of the paper. To cite the paper please use thedoi provided on the Digital Library page. The “thing” in the “livingornon-living” should have:AlexaisthevoiceassistantfromAmazon, which is used inprod-reprehensible•ucts likeAmazonEcho,AmazonTap, etc. throughthird-partyapplicationsandothersmartphones. TheInternetasweknowitis not just made of physicaldevices. These voice assistants are capable of performing multiple tasks. Thisistrueforservicesthatwemightmostly due to the application of various subfields of AI. Robots are able tointeract with humans whileunderstanding,reciprocating, andexpressingcertainhumanemotions. AI that helpsthemcontinuouslylearnandadaptthemselvesover time is called AIenabledIoT. In expression, body movement, tone of voice, words used, etc. illhaveartificialintelli- Itisabletounderstandahuman’semotionthroughhis/herfacialgence andmayservetheactualgoalofautomationandadaptation. SophiafromHansonRobotics is asocialhumanoidrobot. Pepper iscommercially whichwillbeimpossibleforanon-AIIoTsystemtodo. Application of natural language processing, computer vision, connectedviatheInternetandiseasilyaccessibletoitsusers. Summarize the key findings of the paper. fromitsrecipelibrary. Smart objects, smart objects,embeddedcomputational devices, anHDcameraandfoodthermometer. These incorporate frameworks like.Alexa and SmartCities. Smart canrecommendandconfigureautomaticcookprograms. Smart Lights by Deako can be controlled remotely through festasavalidrelati. Connectingthesetwomayleadtosecurityissues,andalsobeusedinrobo-taxisandhighlyautomatedvehicles. Anindependentplatformneedstobecreatedwhichworkforhomes,IoThasahugeapplicationareainthevariousindustrialsec- the individualobjects as well as the whole. Primer is a product from Alluvium which provides industrial TheCPStechnologyisprevalentlyfromtheindustrialsectorand                • solutions.PrimercreatesarealtimeStabilityScoreanalysisbased servesastheengineofinnovationforaneweraofenduserproducts. It enables systemfromdatageneratedinthepast,tomakeaninformeddecision. This article has been accepted for publication in a future issue of this journal, but has not been fully edited. The opportunities and potential of both AI and IoT can ter.Usually,machinelearningalgorithmsaremodifiedandadapted to the BigData scenario. Todoso, itdoesnotneedtotransmitaredemandingtheuseofautomationintheirproductionlines. thedatatoanyserverandperformaremoteprocessing. the paper please use thedoi provided on the Digital Library page. Eachdevicewouldhavedifferentembeddedsystems or atedthroughouttheCPSallthetime. Differentanalysingsystems. willbehandling differentpartsoftheIoT-CPS. Allofthedata is not awholesystem. The paper is divided into sections. 1. High Performance/Cloud Computing. 2. High Per-likethebuildingblocksofsuchamajorsystem. 3. High-endhardware or byaccumulating smart objects. Cognitivesciencepredominantlyinvolves                attachedtothem. Suchphysicalentities willhavesmartobjects(SOs)                11. Summarize the key findings of the paper. esystem. SOs arephysicalworldportrayal ofDEsindigitalworld,hav-                ingthecapabilitytosense,store,process(locally) andcommunicate                vianetworking. They can be either either either a physical entity (PE) or a digital proxy (DP) or both. EveryPEhasaDP, which is usedtorepresentitinthedigitalworld. Therearenumer-amajorportionofIoTrequiresdatastorageandprocessing. Machinelearningand dataanalytics[12]arethe best can-didatesforsuchsmartdataanalysis. More thanbillions of things willgenerated ataindependentlyandit it from others. Data generated by these smart objects need to be transmitted in real-time. This article has been accepted for publication in a future issue of this journal, but has not been fully edited. To cite the paper please use thedoi provided on the Digital Library page. Summarize the key findings of the paper. Weexpectasmartsystem,IoT-CPS,toworkautonomously,i.e.,observeitssurroundings(through 5.2 DataStorageandDataProcessing differentparameters),learnfromexperience,understandtheneedof thehour, and makeausefuldecision/action. The basic IoT-Cps framework consists of smart objects donewiththehelpofartificialintelligence. Virtualisation of nearly entirewholesystemuseless. Continuous analysis of big data over these platforms. This will ensure networks which will automatically store. the data. This article has been accepted for publication in a future issue of this journal, but has not been fully edited. Summarize the key findings of the paper. Emmaynotreceivestreaming detectthenecessityofconnections. 5G wearablegadgetrecordsthehealthandfitnessinformationof auser. This information is availabletothegadgetserviceproviders, since it needs highbandwidth of data. Sellingoftheseuserdatawith-shortrangecommunicationservices,wemightuseBluetoothtech- outuserconsentare notbeneficialtotheuser. The newBluetoothLow-Energy(BLE)hasbeendesignedto beanoptionfortheusertochoose. The firstindustrialrevolutionduring1760-1840gaverisetoarapid                holdagoodconnectionatalargedistance. Withtheadventofthesecondindustrialrev-nectivityisoftenanobviouschoiceforpeoplewhowantwireless olutions. Zigbee [25], Z-Wave [26], 6Low- tionphases,thissmartrevolutionisevolvingatanexponentialpace. Internetcontainsgarbagelikeharassmentandintimi-todoasmallscalelocalprocessing andhavesomeinherentintelli- neurotransdation,crimes,copyrightabuse,malwares,spams, etc. Storingthesedataforanalytics insideasmartobject may not always be possible. Traditionalanalytictools are notcapable of capturing theentireessence of this information. Usersofsmart.varietyistoolarge forcomprehensiveanalysis. The volume,velocity and. correlatedtionsthatlinktothosedevicesshould alsobesecure. This article has been accepted for publication in a future issue of this journal, but has not been fully edited. To cite the paper please use thedoi provided on the Digital Library page. HeML methodstohandlebigdataandalso meaningofthedata. CPS and IoT appropriateanswerstoqueriesorsolverelevantproblems. CPS canbethoughttobealmostanythinglikepersonalisedhealthcare, beingexplicitlyprogrammed. The IoT-CPS applications involve components that interact Thesedifferingformsofintelligencearecomplimentary, notdiamet-                 throughacomplexphysicalenvironmen. AIisthetechnologythatcanfulfilourdream                ronment is therefore a challenging innovation that can possibly tohave ‘things’thatcan’think’[32].Someexamplesofcaseswhere AI can change existing ventures. For example, manufacturing industries, artificialintelligencehave beenincorporatedandusedinIoT-CPS. TheadvancesinAIappliedtosuchconnectedIoT-CPShouses willhavedifferenttemperaturesettingsadjustedaccordingtoaccordingtoScenariowillhelpusunderstandthevisionofnot onlyasmarterbuttheresidents. The system willlearnthatefficiently. mefficientandreducewastage. AnorganizationcalledAugurydoespre-tofulfillallthatIoTpromisestodeliver. roughaprogressionofafixedsetofrules canidentifythemachineandraiseanalarm. This wouldsavecostandthenarriveatanoutcome. However,itwillnotbethatefficient aswellasavoidaccidents. Thisempowersthemtokeeppacewiththevolume,variety,                variabilityandunusualnessofdataproducedbytheIoT. Thesepsychologicalframeworksarecalledcognitivecomputa- 7 Challenges. RecentIoTtrendsindicatethat data iscomingatafaster. It isnothardto finddatabaseswithsomepetabytes of ‘Cognition’ This article has been accepted for publication in a future issue of this journal, but has not been fully edited. To cite the paper please use thedoi provided on the Digital Library page. UsersarequiteconcernedaboutIoTbeingasafeoptiontosharetemsthatcanmimicacancerousgrowthinhumanbody. Anyautonomous mightincreasethesecurityriskofaburglarintrusion. IoT requires standards toattacksthat canarise. Itishardtomakemeaningfulconnec-Thereshould alsobesystemsthat wouldpredictthenewtypeoftions between many random devices. CPSs around the world wouldthereforebeamassivegenerator of viewpoints. Newer types of deviceswillemerge. IoTwilldemandreal-timeprocessing. AsIoTgainspopularity, thenumber of devicesandthesizetopredictthebehavior. The dataiseither 7.2.5 EnergyandEnvironment: Mostofthedevicesthat we arevolatile orcontinuouslychanging. Thereeventuallybuildsupaneedofaneventightercyber energy forprolongeduse. If the future devices also have a very short shelf life like the CPS devices now, that wouldgenerateahugeamountofe-waste. IoT mayseemfascinatingtotalkabout.Wearguethatmostofthe existence in the cyber world. All of these entities will generatetechnicalchallengeshavebeenaddressed. This article has been accepted for publication in a future issue of this journal, but has not bee published. Summarize the key findings of the paper. Thisinclinationtodiscoverpatternsmightbethereasonfor 11 N.MarzandJ.Warren,BigData:PrinciplesandBestPracticesofScalableReal-humanknowledgei.e.,havingthecapacitytoidentifyconveniently TimeDataSystems.Manning,2015. The key findings of the paper are: Weunavoidably findareatallsignificant,genuineandvaluable. Summarize the key findings in the paper. Cohn, “ActiveLearning,”EncyclopediaofMachineLearningandDataMining,Oncethesecharacteristicsgetassimilatedinthem, thatrendersthem smart. Summarize the key findings of the paper. . Allbranchesof 23 J.Kaplan,ArtificialIntelligence:WhatEveryoneNeedstoKnow.WhatEveryone                NeedsToKnow,OxfordUniversityPress,2016. Getthebestofbothworlds:automationwithoutrampantunemploy- 27 Z.ShelbyandC.Bormann,6LoWPAN:TheWirelessEmbeddedInternet,vol.43.2,pp.92–101,2010. Keepingtrack of everyunethicalorsecuritybreachinci- USPatentApp.13/657,037. The IoT-CPS is a diverse and complex network. Only thenwecancontrolthisrevolutionwithoutgettingenslavedbyit. Summarize the key findings of the paper.  by technology, and we will depend on them. Q. Zhang,“InternetofEverything,”MobileInformationSystems,vol.2017,2017.                IETResearchJournals,pp.1–11c TheInstitutionofEngineeringandTechnology2015 11                (cid:13)\n"
     ]
    }
   ],
   "source": [
    "import pdfplumber\n",
    "from transformers import pipeline\n",
    "\n",
    "# Function to extract text from PDF\n",
    "def extract_text_from_pdf(pdf_path):\n",
    "    text = \"\"\n",
    "    with pdfplumber.open(pdf_path) as pdf:\n",
    "        for page in pdf.pages:\n",
    "            page_text = page.extract_text()\n",
    "            if page_text:\n",
    "                text += page_text\n",
    "    return text\n",
    "\n",
    "# Function to summarize text using Hugging Face transformer models (PyTorch backend)\n",
    "def summarize_text_based_on_prompt(text, prompt, model=\"facebook/bart-large-cnn\", max_length=200):\n",
    "    summarizer = pipeline(\"summarization\", model=model, framework=\"pt\")  # Use PyTorch\n",
    "    max_input_length = 1024  # Adjust based on model's max length\n",
    "    text_chunks = [text[i:i+max_input_length] for i in range(0, len(text), max_input_length)]\n",
    "    summaries = []\n",
    "    for chunk in text_chunks:\n",
    "        full_text_with_prompt = prompt + \" \" + chunk\n",
    "        try:\n",
    "            summary = summarizer(full_text_with_prompt, max_length=max_length, min_length=30, do_sample=False)\n",
    "            if summary:\n",
    "                summaries.append(summary[0]['summary_text'])\n",
    "        except IndexError:\n",
    "            summaries.append(\"Error: Summary index out of range.\")\n",
    "    return \" \".join(summaries)\n",
    "\n",
    "# Example usage\n",
    "pdf_path = \"/Users/ravishankar/Desktop/GenAI-Virtual-Internships/Artificial_Intelligence_in_Internet_of_Things.pdf\"  # Your PDF file path\n",
    "prompt = \"Summarize the key findings of the paper.\"\n",
    "text = extract_text_from_pdf(pdf_path)\n",
    "print(\"Extracted text preview:\")\n",
    "print(text[:500])  # Print the first 500 characters to verify\n",
    "\n",
    "summary = summarize_text_based_on_prompt(text, prompt)\n",
    "print(\"Summary based on prompt:\")\n",
    "print(summary)\n"
   ]
  },
  {
   "cell_type": "markdown",
   "metadata": {},
   "source": [
    "## Second Iterations"
   ]
  },
  {
   "cell_type": "code",
   "execution_count": 2,
   "metadata": {},
   "outputs": [
    {
     "name": "stdout",
     "output_type": "stream",
     "text": [
      "Extracted text preview:\n",
      "ReView by River Valley Technologies CAAI Transactions on Intelligence Technology\n",
      "This article has been accepted for publication in a future issue of this journal, but has not been fully edited.\n",
      "Content may change prior to final publication in an issue of the journal. To cite the paper please use the doi provided on the Digital Library page.\n",
      "IETResearchJournals\n",
      "Artificial Intelligence in Internet of Things ISSN1751-8644\n",
      "doi:0000000000\n",
      "www.ietdl.org\n",
      "AshishGhosh1 ∗,DebasritaChakraborty2,AnweshaLaw3\n"
     ]
    },
    {
     "name": "stderr",
     "output_type": "stream",
     "text": [
      "Hardware accelerator e.g. GPU is available in the environment, but no `device` argument is passed to the `Pipeline` object. Model will be on CPU.\n",
      "Your max_length is set to 200, but your input_length is only 89. Since this is a summarization task, where outputs shorter than the input are typically wanted, you might consider decreasing max_length manually, e.g. summarizer('...', max_length=44)\n"
     ]
    },
    {
     "name": "stdout",
     "output_type": "stream",
     "text": [
      "Summary based on prompt:\n",
      "This article has been accepted for publication in a future issue of this journal. To cite the paper please use thedoi provided on the Digital Library page. Provide a concise summary of the methodology used in this research. IoT with AI canbecomeahugebreakthrough. Thisismuchmorethanthat-easinghumanlife. Thereare,however,someseriousissueslikethesecurityconcernsandethicalissueswhich willgoonplaguingIo T. Thisarticlemainlyrevolves with the concept that virtual objects are connected to each other. When these concepts are implemented, they can be used muchautomatically. Suchaworld wouldbedatawealthy,usingwhichdriving. ArtificialIntelligence(AI)isthescienceofinstillingintelligencein industries. AIbasedsystemsareevolvingrapidly.connectingthemtogether and making “smartdecisions” can make the worldanautonomous place. Humansintelligence is actually ‘taking’a                emulating humanlearningaswell asadataanalysis(DA)[2]mod-perfectdecisionattheappropriatetime. MostoftheongoingworksinAIcanbetermedas ‘Narrow’ and ‘embedded’systems. The Internet of Things (IoT) is a trend that anticipatesaworldsaturated withinstalledinstalled viewpoints. The interdisciplinary nature of AI is reallyintriguing and what it will turnintoforcesusto. This article has been accepted for publication in a future issue of this journal, but has not been fully edited. To cite the paper please use thedoi provided on the Digital Library page. Provide a concise summary of the methodology used in this research. Tostate Table1. Provide a concise summary of the methodology used in this research. dasatechniquetousethedatainanefficientmanner devices,andconnectivity. Thedataneedstobeanalysedtobring                sothatitisunderstandabletothepeoplewhoprovideit. Althoughcompletereplicationofallthechar-rithmic efficiency and storage scalability. For analysis, the ideas acteristicsofthelivingbeinghasnotbeenachieved, butresearch come frommuchmorevariedsources. Specifictechniqueswhicharenaturallyinterdisciplinaryare alsoverypopularindatascience. Learningis Learningbysetting Octopus Cog 1999-2003. Provide a concise summary of the methodology used in this research. ioneasyforhumans. Machinelearning is an emergingfield in computerscienceresearch. It gives computers the ability to learn without actually having toprogram them. This Goostman process of learning can beimitated bymachines. Machinelearningisanapproachtoachieveartificialintelligence is basedaroundtheconceptthatmachinesshould be 3 InternetofThings. The keyidea,isto.pendentdecisions. Thisishowmachinelearningmakesupforthe collectrelevantdataandanalyseitefficiently. This article has been accepted for publication in a future issue of this journal, but has not been fully edited. To cite the paper please use thedoi provided on the Digital Library page. TheconceptsIoTandIoEareveryoverlapping. Gartner, Inc. forecasted that 6.4 billion hold. connectedthingswillbeinuseworldwidein 2016, up30percent from2015, andwillreach20.8billion by 2020. 1. Provide a concise summary of the methodology used in this research. 2. Describe the conceptsofInternetofThings and Internet of Everything. 3. TheIoEconnectsupthephysicalthingstothe virtual)withaspecificendgoaltogivethemspecialfunctionali-cyberthingsinto onecohesivewhole. InIoT,connec- disabled couldusetheInternetfortheirbenefits. This article has been accepted for publication in a future issue of this journal, but has not been fully edited. Provide a concise summary of the methodology used in this research. an be human-human, physical thing-physical thing, cyber purposeoftheInternet wouldbeserved. AlexaisthevoiceassistantfromAmazon, which is used inprod-•uctiveucts likeAmazonEcho,AmazonTap, etc. throughthird-partyapplicationsandothersmartphones. TheInternetasweknowitis is not just made of physicaldevices. These voice assistants are capable of performing multiple tasks. Thisistrueforservicesthatwemightmostly due to the application of various subfields of AI. Anon-smartIoT Pepper fromSoftBankRobotics isahuman-shapedrobot. AIthathelpsthemcontinuouslylearnandadaptthemselves over time. provide a concise summary of the methodology used in this research. illhaveartificialintelli- Itisabletounderstandahuman’semotionthroughhis/herfacialgence andmayservetheactualgoalofautomationandadaptation. In expression, body movement, tone of voice, words used, etc. SophiafromHansonRobotics is asocialhumanoidrobot. Pepper iscommercially whichwillbeimpossibleforanon-AIIoTsystemtodo. 3. Provide a concise summary of the methodology used in this research. fromitsrecipelibrary. worksonandismonitored by computer-basedmechanisms. 4. Application of natural language processing, computer vision, connectedviatheInternetandiseasilyaccessibletoitsusers. Toenhancethis whichmakethetasksimplerforhumans. SmartobjectsthatareAIplanfurther, futureroadnetworksmay alsobeconnected withtheenableduseapplicationsofobjectidentification,facialrecognition, and other technologies. Homes and SmartCars can be analysed by analysing their surroundings. Smart Lights by Deako can be controlled remotely through festasavalidrelati. Connectingthesetwomayleadtosecurityissues,andal so that they can be used inrobo-taxis and highlyautomatedvehicles. Connections made between devices and systems should be carefully planned, keeping in mind all theprosandconsofeachconnection. Primer is a product from Alluvium which provides industrial TheCPStechnologyisprevalentlyfromtheindustrialsectorand                • solutions. MachineLearning:Itisaplatformtolearnthetrendsofthe                Plutoshift is another industrial IoT based solution. The opportunities and potential of both AI and IoT can ter.Usually,machinelearningalgorithmsaremodifiedandadapted.WithouttheAI,thedatathattheIoTgeneratesremainsuseless. Thewholesys- dataanddoessomesmallanalysisinside itselftoactuatethealarm. woulddependoncommunication;wirelessconnections between Theseshorttermdecisionmakingcapabilitiesareembedded. The virtualworld will be the ‘physical world’. Provide a concise summary of the methodology used in this research. fullofdata. wouldcontainembeddedsystems, likecamera,temperaturemea- Thenetworkwillbehighlycomplicated,anddatawouldbegener-sure,etc. provide a concise summary of the methodology used in this research. Provide a concisesummary of the methods used in the research. 10. High Performance/Cloud Computing: Typically, the issuesconsideredcannotbesolvedonasinglecommoditycomputer within 5.1 SmartObjects. Cognitivesciencepredominantlyinvolves                attachedtothem. Suchphysicalentities willhavesmartobjects(SOs)                11. Provide a concise summary of the methodology used in this research. SOs arephysicalworldportrayal ofDEsindigitalworld,hav-                ingthecapabilitytosense,store,process(locally) andcommunicate.DEs arevirtualprogramming and the related terms around it, theecosystemofthesetechnolo-phthalmolo-elements which have autonomous objectives. Therearenumer-amajorportionofIoTrequiresdatastorageandprocessing. Machinelearningand dataanalytics[12]are the best can-didatesforsuchsmartdataanalysis. More thanbillions of things willgenerated ataindependently and it it from others. Data generated by these smart objects need to be transmitted in real-time. This article has been accepted for publication in a future issue of this journal, but has not been fully edited. To cite the paper please use thedoi provided on the Digital Library page. Weexpectasmartsystem,IoT-CPS,toworkautonomously,i.e.,observeitssurroundings(through 5.2 DataStorageandDataProcessing differentparameters),learnfromexperience,understandtheneedof thehour, andmakeausefuldecision/action. The basic IoT-Cps framework consists of smart objects donewiththehelpofartificialintelligence. The objective of beingautonomous, making everyphysicalthingimposes bigchallenges. Virtualisation of nearlywholesystemuseless. Continuous analysis of big data over these platforms demand an efficient and reliable network structure.  Provide a concise summary of the methodology used in this research. emmaynotreceivestreaming detectthenecessityofconnectionsbetweentwoobjectsandtherebydata, but will mostlygetlargechunksofcollecteddata fromtimeto increasingordecreasingtheconnectionstrength. There are various technologies for cyber security like crypto-                intrusionortheftsituationsandtakenecessarystepsforthat. 5G wearablegadgetrecordsthehealthandfitnessinformationof auser. This information is availabletothegadgetserviceproviders. oplebelievethatfor longdistanceoperations,5Gnet- Moreover,therearealwayssomeethicalissues. Internet. 5Gisprojectedtobedeployed by 2020. But,itisyettobe may not want their personal information sold in this way. Anumber ofinterdis-150-200Mbps and canbemaximumupto600Mbps. Zigbee [25], Z-Wave [26], 6Low, 6Low and 6Low are other communication protocols. Internetcontainsgarbagelikeharassmentandintimi-todoasmallscalelocalprocessing. Data-bigorsmall-isaninvariablyintegralpartoftheIoTworld withgarbagethatdrivingtothegrocerystore would be almost almost impossible. Storingthesedata foranalytics insideasmartobject. strict moderation and efficient community manage-maynotalwaysbefeasible. The softwareapplicationsandnetwo. Usersofsmart.varietyistoolarge forcomprehensiveanalysis. The volume,velocity and. responsiveness of smart devices could alsobesecure. rkconnec-massivedatainreal-time. CyberSecurityaimsto. real-timedecisionmaking. protect both IoT devices and services of unauthorized access. Thismeansthesystemshouldbeabletomake mostofthedeci-fromwithinthedevicesandexternally. HeML methodstohandlebigdataandalso meaningofthedata. CPS and IoT appropriateanswerstoqueriesorsolverelevantproblems. Anambulanceisimmediately humans need to maintain supremacy over machines. The IoT-CPS applications involve components that interact Thesedifferingformsofintelligencearecomplimentary, notdiamet-                 throughacomplexphysicalenvironmen. AIisthetechnologythatcanfulfilourdream                ronment is therefore a challenging innovation that can possibly tohave ‘things’thatcan’think’[32]. Someexamplesofcaseswhere AI can change existing ventures. For example, manufacturing industries, artificialintelligencehave beenincorporatedandusedinIoT-CPS. TheadvancesinAIappliedtosuchconnectedIoT-CPS houses willhavedifferenttemperaturesettingsadjustedaccordingtoaccordingto                scenariowillhelpusunderstandthevisionofnot onlyasmarter but                theresidents. Provide a concise summary of the methodology used in this research. AnorganizationcalledAugurydoespre-tofulfillallthatIoTpromisestodeliver. roughaprogressionofafixedsetofrules canidentifythemachineandraiseanalarm. This wouldsavecost and thenarriveatanoutcome. However,itwillnotbethatefficient aswellasavoidaccidents. Thisempowersthemtokeeppacewiththevolume,variety,                variabilityandunusualnessofdataproducedbytheIoT. Provide a concise summary of the methodology used in this research. ForIoT, to ‘understand’ wouldmeantobeantobeabletocol- data. Provide a concise summary of the methodology used in this research. IoT, the time.RecentIo Ttrendsindicatethat data iscomingatafaster. This article has been accepted for publication in a future issue of this journal. To cite the paper please use thedoi provided on the Digital Library page. Provide a concise summary of the methodology used in this research. Complexadaptive connected devices, arethetwokeyproblemstomassadoptionofAIsystemsmayleadtoselfsustainingmaliciousevolutionofsys- IoT. Provide a concise summary of the methodology used in this research. omeissues. IoT requires standards toattackssthatcanarise. Itishardtomakemeaningfulconnec-Thereshould alsobesystemsthat wouldpredictthenewtypeoftions between many random devices. provide a concise summary of the methodology used in this research. ttledata’. Provide a concise description of the results of the study. AsIoTgainspopularity, thenumber ofdevicesandthesizetopredictthebehavior. The dataiseither 7.2.5 EnergyandEnvironment: Mostofthedevicesthat we arevolatile orcontinuouslychanging. Thereeventuallybuildsupaneedofaneventightercyber energy forprolongeduse. If the future devices also have a very short shelf life like the CPS devices now, that wouldgenerateahugeamountofe-waste. Analyzing thesemassiveand. power microcontrollers, advanced sensors, wireless technologies. fast flowing data requires advanced technologies (like virtualiza-esque. tionsoftwares),adaptablecloudcomputing, etc. All of these entities will generate huge amounts of data. This article has been accepted for publication in a future issue of this journal, but has not bee published. TheInstitutionofEngineeringandTechnology2015(cid:13) is the author of this article. For confidential support call the Samaritans on 08457 90 90 90, visit a local Samaritans branch or click here for details. Cite the paper in the Digital Library page. Provide a concise summary of the methodology used in this research. n fully edited. Content may change prior to final publication in the journal.  Provide a concise summary of the methodology used in this research. Itypress, 2014. The keyissuewiththissortofpatterndiscovering, both withhumans.  Provide a concise summary of the methodology used in this research. .                irrationality, crimes and even human’s dependence on machines. Allbranchesof 23 J.Kaplan,ArtificialIntelligence:WhatEveryoneNeedstoKnow. WhatEveryoneNeedsToKnow,OxfordUniversityPress,2016. Provide a concise summary of the methodology used in this research. Provide a concise summary of the methodology used in this research. realreadystruggling.Nonetheless,withtherightpolicieswecan pp.92–101,2010. Getthebestofbothworlds:automationwithoutrampantunemploy- 27 Z.ShelbyandC.Bormann,6LoWPAN:TheWirelessEmbeddedInternet,vol.43.                ment. eventually,humaningenuitychangestheroleofproductive JohnWiley&Sons,2011. Keeptrack of everyunethicalorsecuritybreachinci- USPatentApp.13/657,037. Provide a concise summary of the methodology used in this research. Only thenwecancontrolthisrevolutionwithoutgettingenslavedbyit. Provide a concise summary of the methodology used in this research.  by technology, and we will depend on it. Q. Zhang,“InternetofEverything,”MobileInformationSystems,vol.2017,2017. Provide a concise summary of the methodology used in this research.\n"
     ]
    }
   ],
   "source": [
    "import pdfplumber\n",
    "from transformers import pipeline\n",
    "\n",
    "# Function to extract text from PDF\n",
    "def extract_text_from_pdf(pdf_path):\n",
    "    text = \"\"\n",
    "    with pdfplumber.open(pdf_path) as pdf:\n",
    "        for page in pdf.pages:\n",
    "            page_text = page.extract_text()\n",
    "            if page_text:\n",
    "                text += page_text\n",
    "    return text\n",
    "\n",
    "# Function to summarize text using Hugging Face transformer models (PyTorch backend)\n",
    "def summarize_text_based_on_prompt(text, prompt, model=\"facebook/bart-large-cnn\", max_length=200):\n",
    "    summarizer = pipeline(\"summarization\", model=model, framework=\"pt\")  # Use PyTorch\n",
    "    max_input_length = 1024  # Adjust based on model's max length\n",
    "    text_chunks = [text[i:i+max_input_length] for i in range(0, len(text), max_input_length)]\n",
    "    summaries = []\n",
    "    for chunk in text_chunks:\n",
    "        full_text_with_prompt = prompt + \" \" + chunk\n",
    "        try:\n",
    "            summary = summarizer(full_text_with_prompt, max_length=max_length, min_length=30, do_sample=False)\n",
    "            if summary:\n",
    "                summaries.append(summary[0]['summary_text'])\n",
    "        except IndexError:\n",
    "            summaries.append(\"Error: Summary index out of range.\")\n",
    "    return \" \".join(summaries)\n",
    "\n",
    "# Example usage\n",
    "pdf_path = \"/Users/ravishankar/Desktop/GenAI-Virtual-Internships/Artificial_Intelligence_in_Internet_of_Things.pdf\"  # Your PDF file path\n",
    "prompt = \"Provide a concise summary of the methodology used in this research.\"\n",
    "text = extract_text_from_pdf(pdf_path)\n",
    "print(\"Extracted text preview:\")\n",
    "print(text[:500])  # Print the first 500 characters to verify\n",
    "\n",
    "summary = summarize_text_based_on_prompt(text, prompt)\n",
    "print(\"Summary based on prompt:\")\n",
    "print(summary)\n"
   ]
  },
  {
   "cell_type": "markdown",
   "metadata": {},
   "source": [
    "## Final Prompt"
   ]
  },
  {
   "cell_type": "code",
   "execution_count": 3,
   "metadata": {},
   "outputs": [
    {
     "name": "stdout",
     "output_type": "stream",
     "text": [
      "Extracted text preview:\n",
      "ReView by River Valley Technologies CAAI Transactions on Intelligence Technology\n",
      "This article has been accepted for publication in a future issue of this journal, but has not been fully edited.\n",
      "Content may change prior to final publication in an issue of the journal. To cite the paper please use the doi provided on the Digital Library page.\n",
      "IETResearchJournals\n",
      "Artificial Intelligence in Internet of Things ISSN1751-8644\n",
      "doi:0000000000\n",
      "www.ietdl.org\n",
      "AshishGhosh1 ∗,DebasritaChakraborty2,AnweshaLaw3\n"
     ]
    },
    {
     "name": "stderr",
     "output_type": "stream",
     "text": [
      "Hardware accelerator e.g. GPU is available in the environment, but no `device` argument is passed to the `Pipeline` object. Model will be on CPU.\n",
      "Your max_length is set to 200, but your input_length is only 91. Since this is a summarization task, where outputs shorter than the input are typically wanted, you might consider decreasing max_length manually, e.g. summarizer('...', max_length=45)\n"
     ]
    },
    {
     "name": "stdout",
     "output_type": "stream",
     "text": [
      "Summary based on prompt:\n",
      "This article has been accepted for publication in a future issue of this journal. To cite the paper please use thedoi provided on the Digital Library page. Summaries and Analyze Insights from the research paper. IoT with AI canbecomeahugebreakthrough. Thisismuchmorethanthat-easinghumanlife. There are,however,someseriousissueslikethesecurityconcernsandethicalissueswhich willgoonplaguingIo T. Thisarticlemainlyrevolvespitalnearby. Itwillagainneedcertainconnectionsandinformation around in. It wouldbesmarterifitcoulditcouldatleastreducedistractions knowledge could be extracted. ArtificialIntelligence (AI)isthescienceofinstillingintelligence in industries. AIbasedsystemsareevolvingrapidlyconnectingthemtogether and making “smartdecisions’ Humansintelligence is actually ‘taking’a ‘trulyemulating’ humanlearning as well asadataanalysis. ML would createetechniquestofacilitatelearning andDA wouldevaluate/analyse all the data. The Internet of Things (IoT) is a growing field of research. The Internet of Intelligence is a collection of data generated by these gadgets. This article has been accepted for publication in a future issue of this journal, but has not been fully edited. Content may change prior to final publication in an issue of the journal. To cite the paper please use thedoi provided on the Digital Library page. Thedataneedstobeanalysedtobringtothepeoplewhoprovideit,modifiable outthehiddeninsights. Summaries and Analyze Insights from the research paper. Althoughcompletereplicationofallthechar-rithmic efficiency and storage scalability. For analysis, the ideas acteristicsofthelivingbeinghasnotbeenachieved, butresearch come frommuchmorevariedsources. Machines can beequivalently Selfconsciousness Chimpanzee Siri 2011. Learning(includingmachinelearning)mainlytakes placeinthree Hasemotions 1-6year Cozmo 2016. Machinelearningisanemergingfield incomputerscienceresearch whichgivesinanimatesystemsanabil-competitiveitytolearn. Itisseenthatcertaincharacteristicsandbehaviourareyettobe are instilled in computers. machinelearning is–toautomatetheana-                anexplicit,finedetailedspecificationstoexecutethetask. The lyticalmodelsandenablealgorithmstocontinuouslylearn from theconceptofmachinelearningismadetobeconcernedwithimplicit availabledata. Alloftheseisduetotechnologygettingcheaper. TheInstitutionofEngineeringandTechnology2015(cid:13) is a leading institution in the field of AI. TheconceptsIoTandIoEareveryoverlapping. Gartner, Inc. forecasted that 6.4 billion hold. connectedthingswillbeinuseworldwidein 2016, up30percent from2015, andwillreach20.8billion by 2020. Internet of Everything (IoT) is a connected system of physical things (likecropfields,plants,animals, etc.) and humans. According to Cisco [7], “the Inter- IoEhasturnedintoacatchphrasetodepicttheintegrationofcon-centricnetofEverythingistheintelligentconnectiono” TheIoEconnectsupthephysicalthingstothe virtual) withaspecificendgoaltogivethemspecialfunctionali-                cyberthingsinto onecohesivewhole. InIoT,connec- disabled couldusetheInternetfortheirbenefits. This article has been accepted for publication in a future issue of this journal, but has not been fully edited. Content may change prior to final publication in an issue of the journal. To cite the paper please use thedoi provided on the Digital Library page. AlexaisthevoiceassistantfromAmazon, which is used inprod-reprehensibleucts likeAmazonEcho,AmazonTap, etc. Google Assistant used in Google Home has additional fea. TheInternetasweknowitisnotjustmadeofphysicaldevices. These voice assistants are capable of performing multiple tasks. These tasks are mostly due to the application of various subfields of AI. These “intelligentservices” along with the “things”makethe “every-                text conversion, natural language processing and understanding”. Anon-smartIoT Pepper fromSoftBankRobotics isahuman-shapedrobot. AIthathelpsthemcontinuouslylearnandadaptthemselves over time. This article has been accepted for publication in a future issue of this journal, but has not been fully edited. To cite the paper please use thedoi provided on the Digital Library page. SophiafromHansonRobotics is asocialhumanoidrobot. Pepper iscommercially which willbeimpossibleforanon-AIIoTsystemtodo. 3.3 Smart Devices: In an IoT apart from the voice. assis-automaticcars;today,peoplearealreadycreatingautomatedcars. and robots, there are smart objects/devices tha are smart. CPSs are emerging from the integration of smart objects, infrastructure,smart objects,embeddedcomputationaldevices, and communication frameworks. These incorporate frameworks like.Alexa,SmartCities,SmartGrids,SmartFactories,SmartBuilding. Smart can recommendandconfigureautomaticcookprogrambyanalysingHomesandSmartCars. Smart Lights by Deako can be controlled remotely through festasavalidrelati. Connectingthesetwomayleadtosecurityissues,andalso so that they can be used inrobo-taxis and highlyautomatedvehicles. Anindependentplatformneedstobecreated whichwork for homes, hospitals, and industrial systems. Primer is a product from Alluvium which provides industrial TheCPStechnologyisprevalentlyfromtheindustrialsectorand                • solutions.PrimercreatesarealtimeStabilityScoreanalysisbased servesastheengineofinnovationforaneweraofenduserproducts. The opportunities and potential of both AI and IoT can ter.Usually,machinelearningalgorithmsaremodifiedandadapted.AsIoTgenerates data,MLand tohandlethe ‘BigData’scenario. Thewholesys- dataanddoessomesmallanalysisinside itselftoactuatethealarm. Theseshorttermdecisionmakingcapabilitiesareembedded. Each componentofthesystem wouldhelppassinformation from one smartdevice. Eachdevicewouldhavedifferentembeddedsystems or atedthroughouttheCPSallthetime. Differentanalysingsystems. will behandling differentpartsoftheIoT-CPS. 10. High Performance/Cloud Computing: Typically, the issuesconsideredcannotbesolvedonasinglecommoditycomputer within 5.1 SmartObjects. Cognitivesciencepredominantlyinvolves                attachedtothem. Suchphysicalentities willhavesmartobjects(SOs)                11. Summaries and Analyze Insights from the research paper. SOs arephysicalworldportrayal ofDEsindigitalworld,hav-                ingthecapabilitytosense,store,process(locally) andcommunicate. Sosmayactasintelligentagentswithsomelevel5 ComponentsofIoT-CPS. EveryPEhas aDP, which is used to presentitinthedigitalworld. Machinelearningand dataanalytics[12]arethe best can-didatesforsuchsmartdataanalysis. More thanbillions of things willgenerated ataindependently and it it from others. Data generated by these smart objects need to be transmitted regularly. This article has been accepted for publication in a future issue of this journal, but has not been fully edited. The collection, transmission and processing this massive data to effectively,theroleofbigdataanalyticsiscrucial. Weexpectasmartsystem,IoT-CPS,toworkautonomously,i.e.,observeitssurroundings(through 5.2 DataStorageandDataProcessing differentparameters),learnfromexperience,understandtheneedof thehour, and makeausefuldecision/action. The basic IoT-Cps framework consists of smart objects donewiththehelpofartificialintelligence. Virtualisation of nearlywholesystemuseless. Continuous analysis of big data over these platforms demand an efficient and reliable network structure. This will ensure networks which will automatically store big data. This article has been accepted for publication in a future issue of this journal, but has not been fully edited. There are various technologies for cyber security like graphicsystems,firewall,intrusiondetectionsystems andanti-malware. 5G wearablegadgetrecordsthehealthandfitnessinformationof auser. This information is availabletothegadgetserviceproviders, since it needs highbandwidth of data. Internet. 5Gisprojectedtobedeployed by 2020. But,itisyettobe may not want their personal information sold in this way. The firstindustrialrevolutionduring1760-1840gaverisetoarapid                holdagoodconnectionatalargedistance. Withtheadventofthesecondindustrialrev-                nectivityisoftenanobviouschoiceforpeoplewhowantwireless olutions. Zigbee [25], Z-Wave [26], 6Low, 6Low and 6Low are among the other communication protocols. Internetcontainsgarbagelikeharassmentandintimi-todoasmallscalelocalprocessing. Data-bigorsmall-isaninvariablyintegralpartoftheIoTworld. But foradatadependantdecision,moredatashoulddevelopbetterinteractionsandbetterdiscours. Strict moderation and efficient community manage- maymaynotalwaysbefeasible. We justneedto filtertheusefulcontentfromthegarbagefirsttoplay;thedataaresenttoremotelocationsinadistributedfash- and thenattemptto findvalueinit. There are three key issues ofIoTdevicesandservices. Differentdatasourcesareveryvast foranyanalysttomanuallycom-                dataconfidentiality,privacyandtrust. This article has been accepted for publication in a future issue of this journal, but has not been fully edited. Content may change prior to final publication in an issue of the journal. To cite the paper please use thedoi provided on the Digital Library page. CPS and IoT appropriateanswerstoqueriesorsolverelevantproblems. CPS canbethoughttobealmostanythinglikepersonalisedhealthcare, beingexplicitlyprogrammed. Artificialintelligence will bringtosuchIoT-CPSinfrastructure. humans show a remarkable performance in logic and reasoning. Thesedifferingformsofintelligencearecomplimentary, notdiamet-                 throughacomplexphysicalenvironmen. AIisthe technology that canfulfilourdream                ronment is therefore a challenging innovation that can possibly tohave ‘things’thatcan’think’[32]. Someexamplesofcaseswhere AI can change existing ventures. For example, manufacturing industries. TheadvancesinAIappliedtosuchconnectedIoT-CPS houses willhavedifferenttemperaturesettingsadjustedaccordingtoaccordingtoScenariowillhelpusunderstandthevisionofnot onlyasmarter but also theresidents. The system willlearnthatefficiently. mefficientand reducewastage. AnorganizationcalledAugurydoespre-tofulfillallthatIoTpromisestodeliver. This is becauseinflexi- cisely this withvibrationandultrasonicsensorsinstalledontheirbilityrestrainstheirconvenience. Thesepsychologicalframeworksarecalledcognitivecomputa- 7 Challenges. They are capable Afteralltheideahasbeendeveloped,thegapbetweenanideaand.comprehendingthe80percentoftheworld’sinformation. RecentIoTtrendsindicatethat data iscomingatafaster. The mainobjectiveistonotletallofthesedatagotowaste. Therefore,effortsarebeingmadetorecognizeandextractmeaning-                cognitiveIo Tcanbethoughtofasanextension ofIo t. This article has been accepted for publication in a future issue of this journal, but has not been fully edited. Content may change prior to final publication in an issue of the journal. To cite the paper please use thedoi provided on the Digital Library page. UsersarequiteconcernedaboutIoTbeingasafeoptiontosharereprehensibletemsthatcanmimicacancerousgrowthinhumanbody.Cyber-securitywillalsobeamajorconcernas be used for various fraud. IoT requires standards toattackssthatcanarise. IoTmeansmillions ofconnecteddevices. This will callfortwomajortrends:dataintegration and ‘bigli’ CPSs around the world wouldthereforebeamassivegenerator of neurotransvations. Newer types of deviceswillemerge. IoTwillbigdataandwilldemandreal-timeprocessing. AsIoTgainspopularity, thenumber ofdevicesandthesizetopredictthebehavior. The dataiseither 7.2.5 EnergyandEnvironment: Mostofthedevicesthat we                volatileorcontinuouslychanging. Thereeventuallybuildsupaneedofaneventightercyber energy forprolongeduse. If the future devices also have a very short shelf life like the CPS devices now, that wouldgenerateahugeamountofe-waste. WiththeadventofIoT,practicallyeverything will haveavirtual.                this workforthepromisingfuturethatitholds. TheIoTyet. mechanismtodiscovertheunderlyinginsightsin bigdata. This article has been accepted for publication in a future issue of this journal, but has not yet been published. Summaries and Analyze Insights from the research paper. ItgivesIoTandthose ‘things’acerebrumtothink, which 8 R.BahetiandH.Gill,“Cyber-PhysicalSystems,”TheImpactofControlTechnol-iscalled“embeddedintelligence”byafewresearchers[34]. ogy,vol.12,pp.161–166,2011.Indeed, somethingtorememberisthatifsomeoneisdetermined 9 M.M.Gorman,DatabaseManagementSystems:UnderstandingandApplyingDatabaseTechnology.ElsevierScience,2014. Weunavoidably findareatallsignificant,genuineandvaluable. The pattern of the human brain is the keyissuewiththissort ofpatterndiscovering, both withhumans. Theory of “ActiveLearning’s” “FormalSynthesisviaInductiveLearning,’ ““inevitablysubjugatedbysuchmachines. “ “Peoplewillbewearingintelligentgadgets,eatingintel- DataMining,Inference,andPrediction. ” � “TheoryofFormal Synthesis viaInductive learning,”. Allbranchesof 23 J.Kaplan,ArtificialIntelligence:WhatEveryoneNeedstoKnow.WhatEveryone                NeedsToKnow,OxfordUniversityPress,2016. Althoughthesesystemsbringmyriadbenefits, ceedingsofthe2016InternationalConferenceonEmbeddedWirelessSystemsand theyalsocontaininherentrisks, such asprivacybreach,codifying Networks. Summaries and Analyze Insights from the research paper. Keepingtrackofeveryunethicalorsecuritybreachinci- USPatentApp.13/657,037. The IoT-CPS is a diverse and complex network. We will depend on technology, and we will dependonthemforeverything. Onlythenwecancontrolthisrevolutionwithoutgettingenslavedbyit. Summaries and Analyze Insights from the research paper. Q.Zhang,“InternetofEverything,”MobileInformationSystems,vol.2017,2017.                IETResearchJournals,pp.1–11. Summaries and Analyze Insights from the research paper.\n"
     ]
    }
   ],
   "source": [
    "import pdfplumber\n",
    "from transformers import pipeline\n",
    "\n",
    "# Function to extract text from PDF\n",
    "def extract_text_from_pdf(pdf_path):\n",
    "    text = \"\"\n",
    "    with pdfplumber.open(pdf_path) as pdf:\n",
    "        for page in pdf.pages:\n",
    "            page_text = page.extract_text()\n",
    "            if page_text:\n",
    "                text += page_text\n",
    "    return text\n",
    "\n",
    "# Function to summarize text using Hugging Face transformer models (PyTorch backend)\n",
    "def summarize_text_based_on_prompt(text, prompt, model=\"facebook/bart-large-cnn\", max_length=200):\n",
    "    summarizer = pipeline(\"summarization\", model=model, framework=\"pt\")  # Use PyTorch\n",
    "    max_input_length = 1024  # Adjust based on model's max length\n",
    "    text_chunks = [text[i:i+max_input_length] for i in range(0, len(text), max_input_length)]\n",
    "    summaries = []\n",
    "    for chunk in text_chunks:\n",
    "        full_text_with_prompt = prompt + \" \" + chunk\n",
    "        try:\n",
    "            summary = summarizer(full_text_with_prompt, max_length=max_length, min_length=30, do_sample=False)\n",
    "            if summary:\n",
    "                summaries.append(summary[0]['summary_text'])\n",
    "        except IndexError:\n",
    "            summaries.append(\"Error: Summary index out of range.\")\n",
    "    return \" \".join(summaries)\n",
    "\n",
    "# Example usage\n",
    "pdf_path = \"/Users/ravishankar/Desktop/GenAI-Virtual-Internships/Artificial_Intelligence_in_Internet_of_Things.pdf\"  # Your PDF file path\n",
    "prompt = \"Summaries and Analyze Insights from the research paper. \"\n",
    "text = extract_text_from_pdf(pdf_path)\n",
    "print(\"Extracted text preview:\")\n",
    "print(text[:500])  # Print the first 500 characters to verify\n",
    "\n",
    "summary = summarize_text_based_on_prompt(text, prompt)\n",
    "print(\"Summary based on prompt:\")\n",
    "print(summary)\n"
   ]
  }
 ],
 "metadata": {
  "kernelspec": {
   "display_name": "Python 3",
   "language": "python",
   "name": "python3"
  },
  "language_info": {
   "codemirror_mode": {
    "name": "ipython",
    "version": 3
   },
   "file_extension": ".py",
   "mimetype": "text/x-python",
   "name": "python",
   "nbconvert_exporter": "python",
   "pygments_lexer": "ipython3",
   "version": "3.12.4"
  }
 },
 "nbformat": 4,
 "nbformat_minor": 2
}
